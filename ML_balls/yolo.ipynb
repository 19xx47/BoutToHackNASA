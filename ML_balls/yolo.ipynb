{
 "cells": [
  {
   "cell_type": "code",
   "execution_count": 17,
   "metadata": {},
   "outputs": [
    {
     "name": "stdout",
     "output_type": "stream",
     "text": [
      "\u001b[34m\u001b[1msegment/predict: \u001b[0mweights=['./best_v5.pt'], source=./ball_images/frame_0066.jpg, data=../yolov5/data/coco128.yaml, imgsz=[640, 640], conf_thres=0.5, iou_thres=0.45, max_det=1000, device=, view_img=False, save_txt=False, save_conf=False, save_crop=False, nosave=False, classes=None, agnostic_nms=False, augment=False, visualize=False, update=False, project=../yolov5/runs/predict-seg, name=exp, exist_ok=False, line_thickness=3, hide_labels=False, hide_conf=False, half=False, dnn=False, vid_stride=1, retina_masks=False\n",
      "YOLOv5 🚀 v7.0-313-g712de55a Python-3.12.3 torch-2.3.0 CPU\n",
      "\n",
      "Fusing layers... \n",
      "YOLOv5n-seg summary: 165 layers, 1881103 parameters, 0 gradients, 6.7 GFLOPs\n",
      "image 1/1 /Users/worakanlasudee/Documents/ABU/ML_ball/ball_images/frame_0066.jpg: 416x640 12 purples, 3 reds, 38.9ms\n",
      "Speed: 0.4ms pre-process, 38.9ms inference, 0.4ms NMS per image at shape (1, 3, 640, 640)\n",
      "Results saved to \u001b[1m../yolov5/runs/predict-seg/exp2\u001b[0m\n"
     ]
    }
   ],
   "source": [
    "import torch\n",
    "\n",
    "# model = torch.hub.load('ultralytics/yolov5', 'custom', path='./best_v5.pt')\n",
    "!python ../yolov5/segment/predict.py --weights ./best_v5.pt --source ./ball_images/frame_0066.jpg --img 640 --conf-thres=0.5  # validate"
   ]
  },
  {
   "cell_type": "code",
   "execution_count": 3,
   "metadata": {},
   "outputs": [
    {
     "data": {
      "text/plain": [
       "'/Users/worakanlasudee/Documents/ABU/ML_ball'"
      ]
     },
     "execution_count": 3,
     "metadata": {},
     "output_type": "execute_result"
    }
   ],
   "source": [
    "%pwd"
   ]
  },
  {
   "cell_type": "code",
   "execution_count": null,
   "metadata": {},
   "outputs": [],
   "source": []
  }
 ],
 "metadata": {
  "kernelspec": {
   "display_name": "ABU",
   "language": "python",
   "name": "python3"
  },
  "language_info": {
   "codemirror_mode": {
    "name": "ipython",
    "version": 3
   },
   "file_extension": ".py",
   "mimetype": "text/x-python",
   "name": "python",
   "nbconvert_exporter": "python",
   "pygments_lexer": "ipython3",
   "version": "3.12.3"
  }
 },
 "nbformat": 4,
 "nbformat_minor": 2
}
